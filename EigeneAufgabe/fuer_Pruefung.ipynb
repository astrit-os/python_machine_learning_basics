{
 "cells": [
  {
   "cell_type": "markdown",
   "metadata": {},
   "source": [
    "### Lineare Regression"
   ]
  },
  {
   "cell_type": "code",
   "execution_count": 1,
   "metadata": {},
   "outputs": [
    {
     "name": "stdout",
     "output_type": "stream",
     "text": [
      "/workspaces/python_machine_learning_basics/EigeneAufgabe\n"
     ]
    }
   ],
   "source": [
    "# Libraries\n",
    "import os\n",
    "import numpy as np\n",
    "import pandas as pd\n",
    "import scipy.stats as stats\n",
    "import statsmodels.api as sm\n",
    "import matplotlib.pyplot as plt\n",
    "from sklearn import linear_model\n",
    "from sklearn.model_selection import train_test_split\n",
    "\n",
    "# Ignore warnings\n",
    "import warnings\n",
    "warnings.filterwarnings('ignore')\n",
    "\n",
    "# Show current working directory\n",
    "print(os.getcwd())"
   ]
  },
  {
   "cell_type": "markdown",
   "metadata": {},
   "source": [
    "#### import data from dataset"
   ]
  },
  {
   "cell_type": "code",
   "execution_count": 2,
   "metadata": {},
   "outputs": [
    {
     "name": "stdout",
     "output_type": "stream",
     "text": [
      "Number of missing values: 0\n"
     ]
    },
    {
     "data": {
      "text/html": [
       "<div>\n",
       "<style scoped>\n",
       "    .dataframe tbody tr th:only-of-type {\n",
       "        vertical-align: middle;\n",
       "    }\n",
       "\n",
       "    .dataframe tbody tr th {\n",
       "        vertical-align: top;\n",
       "    }\n",
       "\n",
       "    .dataframe thead th {\n",
       "        text-align: right;\n",
       "    }\n",
       "</style>\n",
       "<table border=\"1\" class=\"dataframe\">\n",
       "  <thead>\n",
       "    <tr style=\"text-align: right;\">\n",
       "      <th></th>\n",
       "      <th>student_id</th>\n",
       "      <th>iq</th>\n",
       "      <th>grade</th>\n",
       "      <th>age</th>\n",
       "      <th>parents_income</th>\n",
       "      <th>efficiency</th>\n",
       "    </tr>\n",
       "  </thead>\n",
       "  <tbody>\n",
       "    <tr>\n",
       "      <th>0</th>\n",
       "      <td>Student_0001</td>\n",
       "      <td>107.0</td>\n",
       "      <td>79.0</td>\n",
       "      <td>24</td>\n",
       "      <td>30322.0</td>\n",
       "      <td>80.0</td>\n",
       "    </tr>\n",
       "    <tr>\n",
       "      <th>1</th>\n",
       "      <td>Student_0002</td>\n",
       "      <td>98.0</td>\n",
       "      <td>89.0</td>\n",
       "      <td>21</td>\n",
       "      <td>52164.0</td>\n",
       "      <td>82.0</td>\n",
       "    </tr>\n",
       "    <tr>\n",
       "      <th>2</th>\n",
       "      <td>Student_0003</td>\n",
       "      <td>110.0</td>\n",
       "      <td>56.0</td>\n",
       "      <td>18</td>\n",
       "      <td>34049.0</td>\n",
       "      <td>70.0</td>\n",
       "    </tr>\n",
       "    <tr>\n",
       "      <th>3</th>\n",
       "      <td>Student_0004</td>\n",
       "      <td>123.0</td>\n",
       "      <td>76.0</td>\n",
       "      <td>20</td>\n",
       "      <td>38899.0</td>\n",
       "      <td>85.0</td>\n",
       "    </tr>\n",
       "    <tr>\n",
       "      <th>4</th>\n",
       "      <td>Student_0005</td>\n",
       "      <td>96.0</td>\n",
       "      <td>63.0</td>\n",
       "      <td>22</td>\n",
       "      <td>58381.0</td>\n",
       "      <td>68.0</td>\n",
       "    </tr>\n",
       "  </tbody>\n",
       "</table>\n",
       "</div>"
      ],
      "text/plain": [
       "     student_id     iq  grade  age  parents_income  efficiency\n",
       "0  Student_0001  107.0   79.0   24         30322.0        80.0\n",
       "1  Student_0002   98.0   89.0   21         52164.0        82.0\n",
       "2  Student_0003  110.0   56.0   18         34049.0        70.0\n",
       "3  Student_0004  123.0   76.0   20         38899.0        85.0\n",
       "4  Student_0005   96.0   63.0   22         58381.0        68.0"
      ]
     },
     "execution_count": 2,
     "metadata": {},
     "output_type": "execute_result"
    }
   ],
   "source": [
    "# Define columns for import\n",
    "columns = [ 'Student_ID',\n",
    "           'IQ',\n",
    "           'Grade',\n",
    "           'Age',\n",
    "           'Parents_Income',\n",
    "           'Efficiency']\n",
    "\n",
    "# Read and select variables\n",
    "df_orig = pd.read_csv(\"./Updated_Student_Dataset_with_Efficiency.csv\", \n",
    "                      sep=\",\", \n",
    "                      encoding='utf-8')[columns]\n",
    "\n",
    "# switch to lowercase\n",
    "df_orig.columns = df_orig.columns.str.lower()\n",
    "\n",
    "# Remove missing values\n",
    "#df = df_orig.dropna()\n",
    "#df.head(5)\n",
    "\n",
    "# Remove duplicates\n",
    "#df = df.drop_duplicates()\n",
    "\n",
    "# Remove some 'extreme' values\n",
    "#df = df.loc[(df['price'] >= 1000) & (df['price'] <= 5000)]\n",
    "\n",
    "#print(df.shape)\n",
    "print(f\"Number of missing values: {pd.isna(df_orig).sum().sum()}\")\n",
    "df_orig.head(5)"
   ]
  },
  {
   "cell_type": "code",
   "execution_count": null,
   "metadata": {},
   "outputs": [],
   "source": []
  },
  {
   "cell_type": "markdown",
   "metadata": {},
   "source": [
    "### Simple linear regression (only one explanatory variable in the model)"
   ]
  },
  {
   "cell_type": "code",
   "execution_count": 3,
   "metadata": {},
   "outputs": [
    {
     "name": "stdout",
     "output_type": "stream",
     "text": [
      "X_train:\n",
      "249    68.0\n",
      "433    66.0\n",
      "19     68.0\n",
      "322    79.0\n",
      "332    68.0\n",
      "Name: efficiency, dtype: float64 \n",
      "\n",
      "y_train:\n",
      "249    56.0\n",
      "433    48.0\n",
      "19     78.0\n",
      "322    93.0\n",
      "332    60.0\n",
      "Name: grade, dtype: float64\n"
     ]
    }
   ],
   "source": [
    "# Create train and test samples\n",
    "X_train, X_test, y_train, y_test = train_test_split(df_orig['efficiency'], \n",
    "                                                    df_orig['grade'],            #das ist die Zielvariable\n",
    "                                                    test_size=0.20, \n",
    "                                                    random_state=42)\n",
    "# Show X_train\n",
    "print('X_train:')\n",
    "print(X_train.head(), '\\n')\n",
    "\n",
    "# Show y_train\n",
    "print('y_train:')\n",
    "print(y_train.head())"
   ]
  },
  {
   "cell_type": "markdown",
   "metadata": {},
   "source": [
    "### Fit the simple linear regression model"
   ]
  },
  {
   "cell_type": "code",
   "execution_count": 4,
   "metadata": {},
   "outputs": [
    {
     "name": "stdout",
     "output_type": "stream",
     "text": [
      "Linear regression result:\n",
      "Intercept with y-axis (alpha):            12.79\n",
      "Slope of regression line (beta):          0.785\n",
      "p-value:                                  0.0000\n",
      "R-squared (coefficient of determination): 0.3647\n"
     ]
    }
   ],
   "source": [
    "# Fit the regression model\n",
    "slope, intercept, r, p, std_err = stats.linregress(X_train, y_train)\n",
    "\n",
    "# Print results of the regression model\n",
    "print('Linear regression result:')\n",
    "print(f'Intercept with y-axis (alpha):            {intercept:.2f}')\n",
    "print(f'Slope of regression line (beta):          {slope:.3f}')\n",
    "print(f'p-value:                                  {p:.4f}')\n",
    "print(f'R-squared (coefficient of determination): {r**2:.4f}')"
   ]
  },
  {
   "cell_type": "markdown",
   "metadata": {},
   "source": [
    "### Plot regression line"
   ]
  },
  {
   "cell_type": "code",
   "execution_count": 5,
   "metadata": {},
   "outputs": [
    {
     "data": {
      "image/png": "[encoded data removed]",
      "text/plain": [
       "<Figure size 600x400 with 1 Axes>"
      ]
     },
     "metadata": {},
     "output_type": "display_data"
    }
   ],
   "source": [
    "# Function to calculate model predictions\n",
    "def myfunc(x):\n",
    "    return slope * x + intercept\n",
    "\n",
    "# Apply myfunc() to x, i.e. make predictions \n",
    "mymodel = pd.Series(map(myfunc, X_train))\n",
    "\n",
    "# Scatterplot with regression line\n",
    "plt.figure(figsize=(6,4))\n",
    "plt.scatter(X_train, y_train, s=10, color='green')\n",
    "plt.plot(X_train, mymodel, color='darkred', linestyle='dashed')\n",
    "plt.title('Simple Linear Regression')\n",
    "plt.xlabel('Efficiency')\n",
    "plt.ylabel('Grade')\n",
    "\n",
    "plt.show()"
   ]
  },
  {
   "cell_type": "markdown",
   "metadata": {},
   "source": [
    "### Check model residuals (residuals = observed prices minus predicted prices)"
   ]
  },
  {
   "cell_type": "code",
   "execution_count": 6,
   "metadata": {},
   "outputs": [
    {
     "name": "stdout",
     "output_type": "stream",
     "text": [
      "1st Predicted price in dataset: 66.18\n",
      "1st Observed price in dataset: 89.00\n",
      "1st Residual price in dataset: 24.39\n"
     ]
    }
   ],
   "source": [
    "# Calculate model residuals for train data\n",
    "residuals = y_train - mymodel\n",
    "\n",
    "# Check the first residual value in our data set\n",
    "print(f'1st Predicted price in dataset: {mymodel[0]:.2f}')\n",
    "print(f'1st Observed price in dataset: {y_train[1]:.2f}')\n",
    "print(f'1st Residual price in dataset: {residuals[1]:.2f}')\n"
   ]
  },
  {
   "cell_type": "markdown",
   "metadata": {},
   "source": [
    "### Histogramm der Residuals"
   ]
  },
  {
   "cell_type": "code",
   "execution_count": 7,
   "metadata": {},
   "outputs": [
    {
     "data": {
      "image/png": "[encoded data removed]",
      "text/plain": [
       "<Figure size 700x400 with 1 Axes>"
      ]
     },
     "metadata": {},
     "output_type": "display_data"
    }
   ],
   "source": [
    "# Plot histogram of residuals\n",
    "fig = plt.figure( figsize=(7,4))\n",
    "n, bins, patches = plt.hist(x=residuals, \n",
    "                            bins=25, \n",
    "                            color='blue',\n",
    "                            alpha=0.5\n",
    "                   )\n",
    "\n",
    "# Set title and labels\n",
    "plt.xlabel('residuals', fontsize=10, labelpad=10)\n",
    "plt.ylabel('frequency', fontsize=10, labelpad=10)\n",
    "plt.title('Histogram of model residuals', fontsize=12, pad=10)\n",
    "plt.grid()\n",
    "\n",
    "# Show plot\n",
    "plt.show()"
   ]
  },
  {
   "cell_type": "markdown",
   "metadata": {},
   "source": [
    "### Compare the observed grades with the predicted grades"
   ]
  },
  {
   "cell_type": "markdown",
   "metadata": {},
   "source": []
  },
  {
   "cell_type": "code",
   "execution_count": 8,
   "metadata": {},
   "outputs": [
    {
     "name": "stdout",
     "output_type": "stream",
     "text": [
      "Observed grade: 55.0, Predicted grade: 70.9\n",
      "Observed grade: 68.0, Predicted grade: 76.4\n",
      "Observed grade: 70.0, Predicted grade: 80.3\n",
      "Observed grade: 71.0, Predicted grade: 67.0\n",
      "Observed grade: 74.0, Predicted grade: 70.9\n",
      "Observed grade: 84.0, Predicted grade: 81.1\n",
      "Observed grade: 72.0, Predicted grade: 71.7\n",
      "Observed grade: 86.0, Predicted grade: 79.5\n",
      "Observed grade: 51.0, Predicted grade: 64.6\n",
      "Observed grade: 68.0, Predicted grade: 68.5\n"
     ]
    }
   ],
   "source": [
    "# Create model predictions for test data\n",
    "predicted = myfunc(X_test)\n",
    "predicted.round(1)\n",
    "\n",
    "# Compare the observed prices with the predicted prices\n",
    "for i in range(0,10):\n",
    "    print(f'Observed grade: {y_test.iloc[i]:.1f}, Predicted grade: {predicted.iloc[i]:.1f}')"
   ]
  },
  {
   "cell_type": "markdown",
   "metadata": {},
   "source": [
    "## Multiple linear regression (more than one explanatory variable in the model)"
   ]
  },
  {
   "cell_type": "markdown",
   "metadata": {},
   "source": [
    "### Create train and test samples (train = 80%, test = 20% of the data)"
   ]
  },
  {
   "cell_type": "code",
   "execution_count": 9,
   "metadata": {},
   "outputs": [
    {
     "name": "stdout",
     "output_type": "stream",
     "text": [
      "X2_train:\n",
      "     efficiency     iq  age  parents_income\n",
      "249        68.0  106.0   23         31923.0\n",
      "433        66.0  111.0   24         30752.0\n",
      "19         68.0   79.0   21         63022.0\n",
      "322        79.0   88.0   23         56432.0\n",
      "332        68.0  101.0   23         42699.0 \n",
      "\n",
      "y2_train:\n",
      "249    56.0\n",
      "433    48.0\n",
      "19     78.0\n",
      "322    93.0\n",
      "332    60.0\n",
      "Name: grade, dtype: float64\n"
     ]
    }
   ],
   "source": [
    "# log\n",
    "#df['price_log'] = np.log(df['price'])     # das wurde zusätzlich ergänz\n",
    "\n",
    "\n",
    "# Create train and test samples (we name it X2_ and y_2 because we already used X_ and y_ above)\n",
    "X2_train, X2_test, y2_train, y2_test = train_test_split(df_orig[['efficiency', 'iq','age', 'parents_income']], \n",
    "                                                        df_orig['grade'], \n",
    "                                                        test_size=0.20, \n",
    "                                                        random_state=42)\n",
    "\n",
    "# Show X2_train\n",
    "print('X2_train:')\n",
    "print(X2_train.head(), '\\n')\n",
    "\n",
    "# Show y2_train\n",
    "print('y2_train:')\n",
    "print(y2_train.head())"
   ]
  },
  {
   "cell_type": "markdown",
   "metadata": {},
   "source": [
    "### Fit the multiple regression model (yes, the output is rich :-), but we need only part of it for interpretation!)"
   ]
  },
  {
   "cell_type": "code",
   "execution_count": 10,
   "metadata": {},
   "outputs": [
    {
     "name": "stdout",
     "output_type": "stream",
     "text": [
      "                            OLS Regression Results                            \n",
      "==============================================================================\n",
      "Dep. Variable:                  grade   R-squared:                       0.996\n",
      "Model:                            OLS   Adj. R-squared:                  0.996\n",
      "Method:                 Least Squares   F-statistic:                 2.710e+04\n",
      "Date:                Sun, 10 Nov 2024   Prob (F-statistic):               0.00\n",
      "Time:                        18:38:19   Log-Likelihood:                -348.52\n",
      "No. Observations:                 400   AIC:                             707.0\n",
      "Df Residuals:                     395   BIC:                             727.0\n",
      "Df Model:                           4                                         \n",
      "Covariance Type:            nonrobust                                         \n",
      "==================================================================================\n",
      "                     coef    std err          t      P>|t|      [0.025      0.975]\n",
      "----------------------------------------------------------------------------------\n",
      "const             -0.6719      0.460     -1.460      0.145      -1.577       0.233\n",
      "efficiency         2.0092      0.006    327.910      0.000       1.997       2.021\n",
      "iq                -0.8028      0.003   -261.697      0.000      -0.809      -0.797\n",
      "age                0.2098      0.015     14.131      0.000       0.181       0.239\n",
      "parents_income  1.957e-07   2.02e-06      0.097      0.923   -3.77e-06    4.16e-06\n",
      "==============================================================================\n",
      "Omnibus:                      136.695   Durbin-Watson:                   2.110\n",
      "Prob(Omnibus):                  0.000   Jarque-Bera (JB):               20.567\n",
      "Skew:                           0.030   Prob(JB):                     3.42e-05\n",
      "Kurtosis:                       1.891   Cond. No.                     8.23e+05\n",
      "==============================================================================\n",
      "\n",
      "Notes:\n",
      "[1] Standard Errors assume that the covariance matrix of the errors is correctly specified.\n",
      "[2] The condition number is large, 8.23e+05. This might indicate that there are\n",
      "strong multicollinearity or other numerical problems.\n"
     ]
    }
   ],
   "source": [
    "# Add constant to the model\n",
    "X2_train_const = sm.add_constant(X2_train)\n",
    "\n",
    "# Create the multiple regression model\n",
    "olsmod = sm.OLS(y_train, X2_train_const)\n",
    "olsres = olsmod.fit()\n",
    "\n",
    "# Print full model output\n",
    "print(olsres.summary())"
   ]
  },
  {
   "cell_type": "markdown",
   "metadata": {},
   "source": [
    "### Plot histogram of residuals"
   ]
  },
  {
   "cell_type": "code",
   "execution_count": 11,
   "metadata": {},
   "outputs": [
    {
     "data": {
      "image/png": "[encoded data removed]",
      "text/plain": [
       "<Figure size 800x400 with 1 Axes>"
      ]
     },
     "metadata": {},
     "output_type": "display_data"
    }
   ],
   "source": [
    "# Plot histogram of residuals\n",
    "fig = plt.figure( figsize=(8,4))\n",
    "n, bins, patches = plt.hist(x=olsres.resid, \n",
    "                            bins=25, \n",
    "                            color='blue',\n",
    "                            alpha=0.5\n",
    "                   )\n",
    "\n",
    "# Set labels\n",
    "plt.xlabel('residuals', fontsize=10, labelpad=10)\n",
    "plt.ylabel('frequency', fontsize=10, labelpad=10)\n",
    "plt.title('Histogram of model residuals', fontsize=12, pad=10)\n",
    "plt.grid()\n",
    "\n",
    "plt.show()"
   ]
  },
  {
   "cell_type": "markdown",
   "metadata": {},
   "source": [
    "### Compare observed grades with predicted grades"
   ]
  },
  {
   "cell_type": "code",
   "execution_count": 12,
   "metadata": {},
   "outputs": [
    {
     "name": "stdout",
     "output_type": "stream",
     "text": [
      "Observed grade: 55.0, Predicted grade: 54.1\n",
      "Observed grade: 68.0, Predicted grade: 67.5\n",
      "Observed grade: 70.0, Predicted grade: 70.8\n",
      "Observed grade: 71.0, Predicted grade: 70.3\n",
      "Observed grade: 74.0, Predicted grade: 73.7\n",
      "Observed grade: 84.0, Predicted grade: 84.4\n",
      "Observed grade: 72.0, Predicted grade: 72.4\n",
      "Observed grade: 86.0, Predicted grade: 86.8\n",
      "Observed grade: 51.0, Predicted grade: 51.8\n",
      "Observed grade: 68.0, Predicted grade: 67.3\n"
     ]
    }
   ],
   "source": [
    "# Add constant to X2_test\n",
    "X2_test_const = sm.add_constant(X2_test)\n",
    "predicted_new = olsres.predict(X2_test_const)\n",
    "\n",
    "# Compare the observed prices with the predicted prices\n",
    "for i in range(0,10):\n",
    "    print(f'Observed grade: {y_test.iloc[i]:.1f}, Predicted grade: {predicted_new.iloc[i]:.1f}')"
   ]
  },
  {
   "cell_type": "markdown",
   "metadata": {},
   "source": [
    "# Regression Tree"
   ]
  },
  {
   "cell_type": "code",
   "execution_count": 1,
   "metadata": {},
   "outputs": [
    {
     "name": "stdout",
     "output_type": "stream",
     "text": [
      "/workspaces/python_machine_learning_basics/EigeneAufgabe\n"
     ]
    }
   ],
   "source": [
    "# Libraries\n",
    "import os\n",
    "import numpy as np\n",
    "import pandas as pd\n",
    "import seaborn as sns\n",
    "import matplotlib.pyplot as plt\n",
    "from IPython.display import Image\n",
    "\n",
    "from sklearn import tree\n",
    "from sklearn.metrics import RocCurveDisplay\n",
    "from sklearn.tree import DecisionTreeClassifier\n",
    "from sklearn.ensemble import RandomForestClassifier\n",
    "from sklearn.model_selection import train_test_split\n",
    "from sklearn.metrics import classification_report, confusion_matrix\n",
    "\n",
    "# Ignore warnings\n",
    "import warnings\n",
    "warnings.filterwarnings('ignore')\n",
    "\n",
    "# Show current working directory\n",
    "print(os.getcwd())"
   ]
  },
  {
   "cell_type": "code",
   "execution_count": 2,
   "metadata": {},
   "outputs": [
    {
     "name": "stdout",
     "output_type": "stream",
     "text": [
      "(500, 6)\n"
     ]
    },
    {
     "data": {
      "text/html": [
       "<div>\n",
       "<style scoped>\n",
       "    .dataframe tbody tr th:only-of-type {\n",
       "        vertical-align: middle;\n",
       "    }\n",
       "\n",
       "    .dataframe tbody tr th {\n",
       "        vertical-align: top;\n",
       "    }\n",
       "\n",
       "    .dataframe thead th {\n",
       "        text-align: right;\n",
       "    }\n",
       "</style>\n",
       "<table border=\"1\" class=\"dataframe\">\n",
       "  <thead>\n",
       "    <tr style=\"text-align: right;\">\n",
       "      <th></th>\n",
       "      <th>student_id</th>\n",
       "      <th>iq</th>\n",
       "      <th>grade</th>\n",
       "      <th>age</th>\n",
       "      <th>parents_income</th>\n",
       "      <th>efficiency</th>\n",
       "    </tr>\n",
       "  </thead>\n",
       "  <tbody>\n",
       "    <tr>\n",
       "      <th>0</th>\n",
       "      <td>Student_0001</td>\n",
       "      <td>107.0</td>\n",
       "      <td>79.0</td>\n",
       "      <td>24</td>\n",
       "      <td>30322.0</td>\n",
       "      <td>80.0</td>\n",
       "    </tr>\n",
       "    <tr>\n",
       "      <th>1</th>\n",
       "      <td>Student_0002</td>\n",
       "      <td>98.0</td>\n",
       "      <td>89.0</td>\n",
       "      <td>21</td>\n",
       "      <td>52164.0</td>\n",
       "      <td>82.0</td>\n",
       "    </tr>\n",
       "    <tr>\n",
       "      <th>2</th>\n",
       "      <td>Student_0003</td>\n",
       "      <td>110.0</td>\n",
       "      <td>56.0</td>\n",
       "      <td>18</td>\n",
       "      <td>34049.0</td>\n",
       "      <td>70.0</td>\n",
       "    </tr>\n",
       "    <tr>\n",
       "      <th>3</th>\n",
       "      <td>Student_0004</td>\n",
       "      <td>123.0</td>\n",
       "      <td>76.0</td>\n",
       "      <td>20</td>\n",
       "      <td>38899.0</td>\n",
       "      <td>85.0</td>\n",
       "    </tr>\n",
       "    <tr>\n",
       "      <th>4</th>\n",
       "      <td>Student_0005</td>\n",
       "      <td>96.0</td>\n",
       "      <td>63.0</td>\n",
       "      <td>22</td>\n",
       "      <td>58381.0</td>\n",
       "      <td>68.0</td>\n",
       "    </tr>\n",
       "  </tbody>\n",
       "</table>\n",
       "</div>"
      ],
      "text/plain": [
       "     student_id     iq  grade  age  parents_income  efficiency\n",
       "0  Student_0001  107.0   79.0   24         30322.0        80.0\n",
       "1  Student_0002   98.0   89.0   21         52164.0        82.0\n",
       "2  Student_0003  110.0   56.0   18         34049.0        70.0\n",
       "3  Student_0004  123.0   76.0   20         38899.0        85.0\n",
       "4  Student_0005   96.0   63.0   22         58381.0        68.0"
      ]
     },
     "execution_count": 2,
     "metadata": {},
     "output_type": "execute_result"
    }
   ],
   "source": [
    "# Define columns for import\n",
    "columns = [ 'Student_ID',\n",
    "           'IQ',\n",
    "           'Grade',\n",
    "           'Age',\n",
    "           'Parents_Income',\n",
    "           'Efficiency']\n",
    "\n",
    "df_performance_orig = pd.read_csv(\"./Updated_Student_Dataset_with_Efficiency.csv\", \n",
    "                                   sep=\",\", \n",
    "                                   encoding=\"utf-8\")[columns]\n",
    "\n",
    "# Number of rows and columns\n",
    "print(df_performance_orig.shape)\n",
    "\n",
    "# Brand to upper case letters\n",
    "df_performance_orig.columns = df_performance_orig.columns.str.lower()\n",
    "\n",
    "# First records\n",
    "df_performance_orig.head(5)"
   ]
  },
  {
   "cell_type": "code",
   "execution_count": 13,
   "metadata": {},
   "outputs": [
    {
     "name": "stdout",
     "output_type": "stream",
     "text": [
      "43.0\n",
      "96.0\n",
      "D\n",
      "A\n"
     ]
    }
   ],
   "source": [
    "print(df_performance_orig['grade'].min())\n",
    "print(df_performance_orig['grade'].max())\n",
    "\n",
    "df_performance_orig['grade_category'] = pd.cut(df_performance_orig['grade'],\n",
    "                              bins=[0, 20, 50, 70, 90, 100],  # Die Grenzen der Kategorien\n",
    "                              labels=['F', 'D', 'C', 'B', 'A'],  # Die Kategorien-Buchstaben\n",
    "                              right=True)  # Die Grenzwerte beinhalten die rechten Werte\n",
    "print(df_performance_orig['grade_category'].min())\n",
    "print(df_performance_orig['grade_category'].max())"
   ]
  },
  {
   "cell_type": "code",
   "execution_count": 14,
   "metadata": {},
   "outputs": [
    {
     "name": "stdout",
     "output_type": "stream",
     "text": [
      "student_id        0\n",
      "iq                0\n",
      "grade             0\n",
      "age               0\n",
      "parents_income    0\n",
      "efficiency        0\n",
      "grade_category    0\n",
      "dtype: int64\n"
     ]
    },
    {
     "data": {
      "text/html": [
       "<div>\n",
       "<style scoped>\n",
       "    .dataframe tbody tr th:only-of-type {\n",
       "        vertical-align: middle;\n",
       "    }\n",
       "\n",
       "    .dataframe tbody tr th {\n",
       "        vertical-align: top;\n",
       "    }\n",
       "\n",
       "    .dataframe thead th {\n",
       "        text-align: right;\n",
       "    }\n",
       "</style>\n",
       "<table border=\"1\" class=\"dataframe\">\n",
       "  <thead>\n",
       "    <tr style=\"text-align: right;\">\n",
       "      <th></th>\n",
       "      <th>student_id</th>\n",
       "      <th>iq</th>\n",
       "      <th>grade</th>\n",
       "      <th>age</th>\n",
       "      <th>parents_income</th>\n",
       "      <th>efficiency</th>\n",
       "      <th>grade_category</th>\n",
       "    </tr>\n",
       "  </thead>\n",
       "  <tbody>\n",
       "    <tr>\n",
       "      <th>0</th>\n",
       "      <td>Student_0001</td>\n",
       "      <td>107.0</td>\n",
       "      <td>79.0</td>\n",
       "      <td>24</td>\n",
       "      <td>30322.0</td>\n",
       "      <td>80.0</td>\n",
       "      <td>B</td>\n",
       "    </tr>\n",
       "    <tr>\n",
       "      <th>1</th>\n",
       "      <td>Student_0002</td>\n",
       "      <td>98.0</td>\n",
       "      <td>89.0</td>\n",
       "      <td>21</td>\n",
       "      <td>52164.0</td>\n",
       "      <td>82.0</td>\n",
       "      <td>B</td>\n",
       "    </tr>\n",
       "    <tr>\n",
       "      <th>2</th>\n",
       "      <td>Student_0003</td>\n",
       "      <td>110.0</td>\n",
       "      <td>56.0</td>\n",
       "      <td>18</td>\n",
       "      <td>34049.0</td>\n",
       "      <td>70.0</td>\n",
       "      <td>C</td>\n",
       "    </tr>\n",
       "    <tr>\n",
       "      <th>3</th>\n",
       "      <td>Student_0004</td>\n",
       "      <td>123.0</td>\n",
       "      <td>76.0</td>\n",
       "      <td>20</td>\n",
       "      <td>38899.0</td>\n",
       "      <td>85.0</td>\n",
       "      <td>B</td>\n",
       "    </tr>\n",
       "    <tr>\n",
       "      <th>4</th>\n",
       "      <td>Student_0005</td>\n",
       "      <td>96.0</td>\n",
       "      <td>63.0</td>\n",
       "      <td>22</td>\n",
       "      <td>58381.0</td>\n",
       "      <td>68.0</td>\n",
       "      <td>C</td>\n",
       "    </tr>\n",
       "    <tr>\n",
       "      <th>...</th>\n",
       "      <td>...</td>\n",
       "      <td>...</td>\n",
       "      <td>...</td>\n",
       "      <td>...</td>\n",
       "      <td>...</td>\n",
       "      <td>...</td>\n",
       "      <td>...</td>\n",
       "    </tr>\n",
       "    <tr>\n",
       "      <th>495</th>\n",
       "      <td>Student_0496</td>\n",
       "      <td>108.0</td>\n",
       "      <td>67.0</td>\n",
       "      <td>20</td>\n",
       "      <td>30185.0</td>\n",
       "      <td>75.0</td>\n",
       "      <td>C</td>\n",
       "    </tr>\n",
       "    <tr>\n",
       "      <th>496</th>\n",
       "      <td>Student_0497</td>\n",
       "      <td>84.0</td>\n",
       "      <td>88.0</td>\n",
       "      <td>21</td>\n",
       "      <td>46426.0</td>\n",
       "      <td>76.0</td>\n",
       "      <td>B</td>\n",
       "    </tr>\n",
       "    <tr>\n",
       "      <th>497</th>\n",
       "      <td>Student_0498</td>\n",
       "      <td>97.0</td>\n",
       "      <td>76.0</td>\n",
       "      <td>19</td>\n",
       "      <td>34794.0</td>\n",
       "      <td>75.0</td>\n",
       "      <td>B</td>\n",
       "    </tr>\n",
       "    <tr>\n",
       "      <th>498</th>\n",
       "      <td>Student_0499</td>\n",
       "      <td>87.0</td>\n",
       "      <td>64.0</td>\n",
       "      <td>18</td>\n",
       "      <td>48534.0</td>\n",
       "      <td>65.0</td>\n",
       "      <td>C</td>\n",
       "    </tr>\n",
       "    <tr>\n",
       "      <th>499</th>\n",
       "      <td>Student_0500</td>\n",
       "      <td>79.0</td>\n",
       "      <td>76.0</td>\n",
       "      <td>24</td>\n",
       "      <td>71176.0</td>\n",
       "      <td>67.0</td>\n",
       "      <td>B</td>\n",
       "    </tr>\n",
       "  </tbody>\n",
       "</table>\n",
       "<p>500 rows × 7 columns</p>\n",
       "</div>"
      ],
      "text/plain": [
       "       student_id     iq  grade  age  parents_income  efficiency  \\\n",
       "0    Student_0001  107.0   79.0   24         30322.0        80.0   \n",
       "1    Student_0002   98.0   89.0   21         52164.0        82.0   \n",
       "2    Student_0003  110.0   56.0   18         34049.0        70.0   \n",
       "3    Student_0004  123.0   76.0   20         38899.0        85.0   \n",
       "4    Student_0005   96.0   63.0   22         58381.0        68.0   \n",
       "..            ...    ...    ...  ...             ...         ...   \n",
       "495  Student_0496  108.0   67.0   20         30185.0        75.0   \n",
       "496  Student_0497   84.0   88.0   21         46426.0        76.0   \n",
       "497  Student_0498   97.0   76.0   19         34794.0        75.0   \n",
       "498  Student_0499   87.0   64.0   18         48534.0        65.0   \n",
       "499  Student_0500   79.0   76.0   24         71176.0        67.0   \n",
       "\n",
       "    grade_category  \n",
       "0                B  \n",
       "1                B  \n",
       "2                C  \n",
       "3                B  \n",
       "4                C  \n",
       "..             ...  \n",
       "495              C  \n",
       "496              B  \n",
       "497              B  \n",
       "498              C  \n",
       "499              B  \n",
       "\n",
       "[500 rows x 7 columns]"
      ]
     },
     "execution_count": 14,
     "metadata": {},
     "output_type": "execute_result"
    }
   ],
   "source": [
    "# Count missing values\n",
    "print(df_performance_orig.isna().sum())\n",
    "df = df_performance_orig\n",
    "df"
   ]
  },
  {
   "cell_type": "markdown",
   "metadata": {},
   "source": [
    "### Create train and test samples (train = 80%, test = 20% of the data)"
   ]
  },
  {
   "cell_type": "code",
   "execution_count": 16,
   "metadata": {},
   "outputs": [
    {
     "name": "stdout",
     "output_type": "stream",
     "text": [
      "X_train:\n",
      "        iq  age  parents_income  efficiency\n",
      "249  106.0   23         31923.0        68.0\n",
      "433  111.0   24         30752.0        66.0\n",
      "19    79.0   21         63022.0        68.0\n",
      "322   88.0   23         56432.0        79.0\n",
      "332  101.0   23         42699.0        68.0 \n",
      "\n",
      "y_train:\n",
      "249    C\n",
      "433    D\n",
      "19     B\n",
      "322    A\n",
      "332    C\n",
      "Name: grade_category, dtype: category\n",
      "Categories (5, object): ['F' < 'D' < 'C' < 'B' < 'A']\n"
     ]
    }
   ],
   "source": [
    "# Create train and test samples            ... oben ist immer X-Achse und danach kommt target variable ..hier brand z.b und x sind die restlichen oben\n",
    "X_train, X_test, y_train, y_test = train_test_split(df[['iq', 'age', 'parents_income', 'efficiency']],\n",
    "                                                    df['grade_category'], \n",
    "                                                    test_size=0.20, \n",
    "                                                    random_state=42)\n",
    "\n",
    "# Show X_train\n",
    "print('X_train:')\n",
    "print(X_train.head(), '\\n')\n",
    "\n",
    "# Show y_train\n",
    "print('y_train:')\n",
    "print(y_train.head())"
   ]
  },
  {
   "cell_type": "code",
   "execution_count": 17,
   "metadata": {},
   "outputs": [
    {
     "data": {
      "text/plain": [
       "array(['C', 'C', 'B', 'C', 'B', 'B', 'B', 'B', 'C', 'C', 'C', 'B', 'C',\n",
       "       'C', 'C', 'C', 'C', 'B', 'B', 'B', 'B', 'C', 'B', 'C', 'B', 'B',\n",
       "       'B', 'C', 'C', 'C', 'C', 'B', 'C', 'C', 'C', 'C', 'B', 'B', 'B',\n",
       "       'C', 'B', 'B', 'C', 'B', 'C', 'B', 'B', 'C', 'B', 'C', 'B', 'C',\n",
       "       'B', 'C', 'B', 'C', 'C', 'C', 'C', 'C', 'C', 'B', 'B', 'B', 'B',\n",
       "       'C', 'C', 'B', 'B', 'B', 'C', 'B', 'C', 'B', 'B', 'C', 'C', 'C',\n",
       "       'B', 'A', 'B', 'B', 'C', 'C', 'B', 'B', 'B', 'B', 'B', 'C', 'C',\n",
       "       'B', 'B', 'C', 'B', 'B', 'C', 'D', 'C', 'B'], dtype=object)"
      ]
     },
     "execution_count": 17,
     "metadata": {},
     "output_type": "execute_result"
    }
   ],
   "source": [
    "# Initialize the classification tree model \n",
    "clf = DecisionTreeClassifier(random_state=42, \n",
    "                             max_depth=5)\n",
    "\n",
    "# Train the classification tree model \n",
    "clf = clf.fit(X_train, y_train)\n",
    "\n",
    "# Make model predictions\n",
    "y_pred = clf.predict(X_test)\n",
    "y_pred"
   ]
  },
  {
   "cell_type": "code",
   "execution_count": 18,
   "metadata": {},
   "outputs": [
    {
     "name": "stdout",
     "output_type": "stream",
     "text": [
      "Confusion matrix\n",
      "[[ 0  4  0  0]\n",
      " [ 1 41  6  0]\n",
      " [ 0  5 40  0]\n",
      " [ 0  0  2  1]] \n",
      "\n",
      "Classification report\n",
      "              precision    recall  f1-score   support\n",
      "\n",
      "           A       0.00      0.00      0.00         4\n",
      "           B       0.82      0.85      0.84        48\n",
      "           C       0.83      0.89      0.86        45\n",
      "           D       1.00      0.33      0.50         3\n",
      "\n",
      "    accuracy                           0.82       100\n",
      "   macro avg       0.66      0.52      0.55       100\n",
      "weighted avg       0.80      0.82      0.80       100\n",
      "\n"
     ]
    }
   ],
   "source": [
    "# Confusion matrix\n",
    "print('Confusion matrix')\n",
    "print(confusion_matrix(y_test, y_pred), '\\n')\n",
    "\n",
    "# Classification report\n",
    "print('Classification report')\n",
    "print(classification_report(y_test, y_pred))\n",
    "\n",
    "# 97 und 25 sind die richtig predicted brands\n",
    "# 11 und 7 sind flasch predicted brands"
   ]
  },
  {
   "cell_type": "code",
   "execution_count": 19,
   "metadata": {},
   "outputs": [
    {
     "name": "stdout",
     "output_type": "stream",
     "text": [
      "|--- efficiency <= 69.50\n",
      "|   |--- iq <= 84.50\n",
      "|   |   |--- efficiency <= 63.50\n",
      "|   |   |   |--- efficiency <= 52.50\n",
      "|   |   |   |   |--- class: D\n",
      "|   |   |   |--- efficiency >  52.50\n",
      "|   |   |   |   |--- parents_income <= 25073.00\n",
      "|   |   |   |   |   |--- class: B\n",
      "|   |   |   |   |--- parents_income >  25073.00\n",
      "|   |   |   |   |   |--- class: C\n",
      "|   |   |--- efficiency >  63.50\n",
      "|   |   |   |--- efficiency <= 66.50\n",
      "|   |   |   |   |--- iq <= 79.00\n",
      "|   |   |   |   |   |--- class: B\n",
      "|   |   |   |   |--- iq >  79.00\n",
      "|   |   |   |   |   |--- class: C\n",
      "|   |   |   |--- efficiency >  66.50\n",
      "|   |   |   |   |--- class: B\n",
      "|   |--- iq >  84.50\n",
      "|   |   |--- iq <= 107.50\n",
      "|   |   |   |--- efficiency <= 58.50\n",
      "|   |   |   |   |--- class: D\n",
      "|   |   |   |--- efficiency >  58.50\n",
      "|   |   |   |   |--- iq <= 88.50\n",
      "|   |   |   |   |   |--- class: C\n",
      "|   |   |   |   |--- iq >  88.50\n",
      "|   |   |   |   |   |--- class: C\n",
      "|   |   |--- iq >  107.50\n",
      "|   |   |   |--- class: D\n",
      "|--- efficiency >  69.50\n",
      "|   |--- iq <= 98.50\n",
      "|   |   |--- efficiency <= 78.50\n",
      "|   |   |   |--- efficiency <= 72.50\n",
      "|   |   |   |   |--- iq <= 96.50\n",
      "|   |   |   |   |   |--- class: B\n",
      "|   |   |   |   |--- iq >  96.50\n",
      "|   |   |   |   |   |--- class: C\n",
      "|   |   |   |--- efficiency >  72.50\n",
      "|   |   |   |   |--- class: B\n",
      "|   |   |--- efficiency >  78.50\n",
      "|   |   |   |--- iq <= 97.50\n",
      "|   |   |   |   |--- class: A\n",
      "|   |   |   |--- iq >  97.50\n",
      "|   |   |   |   |--- class: B\n",
      "|   |--- iq >  98.50\n",
      "|   |   |--- efficiency <= 76.50\n",
      "|   |   |   |--- iq <= 106.50\n",
      "|   |   |   |   |--- efficiency <= 73.50\n",
      "|   |   |   |   |   |--- class: C\n",
      "|   |   |   |   |--- efficiency >  73.50\n",
      "|   |   |   |   |   |--- class: B\n",
      "|   |   |   |--- iq >  106.50\n",
      "|   |   |   |   |--- class: C\n",
      "|   |   |--- efficiency >  76.50\n",
      "|   |   |   |--- iq <= 111.50\n",
      "|   |   |   |   |--- parents_income <= 69222.50\n",
      "|   |   |   |   |   |--- class: B\n",
      "|   |   |   |   |--- parents_income >  69222.50\n",
      "|   |   |   |   |   |--- class: B\n",
      "|   |   |   |--- iq >  111.50\n",
      "|   |   |   |   |--- efficiency <= 82.50\n",
      "|   |   |   |   |   |--- class: C\n",
      "|   |   |   |   |--- efficiency >  82.50\n",
      "|   |   |   |   |   |--- class: B\n",
      "\n"
     ]
    }
   ],
   "source": [
    "# Text representation of the classification tree\n",
    "text_rep = tree.export_text(clf, \n",
    "                            feature_names=list(X_train.columns))\n",
    "\n",
    "# Print text_representation\n",
    "print(text_rep)"
   ]
  },
  {
   "cell_type": "code",
   "execution_count": 20,
   "metadata": {},
   "outputs": [
    {
     "data": {
      "image/png": "[encoded data removed]",
      "text/plain": [
       "<Figure size 1400x600 with 1 Axes>"
      ]
     },
     "metadata": {},
     "output_type": "display_data"
    }
   ],
   "source": [
    "# For the meaning of numbers in boxes see root node\n",
    "fig = plt.figure(figsize=(14,6))\n",
    "tree_plot = tree.plot_tree(clf, \n",
    "                   feature_names=list(X_train.columns),  \n",
    "                   class_names=['A','B','C','D','E','F'],\n",
    "                   filled=True,\n",
    "                   fontsize=7,\n",
    "                   label='root')"
   ]
  },
  {
   "cell_type": "markdown",
   "metadata": {},
   "source": [
    "## Random Forest Classifier"
   ]
  },
  {
   "cell_type": "markdown",
   "metadata": {},
   "source": [
    "### Create train and test samples (train = 80%, test = 20% of the data)"
   ]
  },
  {
   "cell_type": "code",
   "execution_count": 21,
   "metadata": {},
   "outputs": [
    {
     "name": "stdout",
     "output_type": "stream",
     "text": [
      "X2_train:\n",
      "        iq  age  parents_income  efficiency\n",
      "247   90.0   24         65263.0        65.0\n",
      "390   87.0   22         51086.0        72.0\n",
      "186  107.0   18         40837.0        75.0\n",
      "484   89.0   18         42453.0        69.0\n",
      "139   82.0   18         32565.0        60.0 \n",
      "\n",
      "y2_train:\n",
      "247    C\n",
      "390    B\n",
      "186    C\n",
      "484    C\n",
      "139    C\n",
      "Name: grade_category, dtype: category\n",
      "Categories (5, object): ['F' < 'D' < 'C' < 'B' < 'A']\n"
     ]
    }
   ],
   "source": [
    "# Create train and test samples            ... oben ist immer X-Achse und danach kommt target variable ..hier brand z.b und x sind die restlichen oben\n",
    "X2_train, X2_test, y2_train, y2_test = train_test_split(df[['iq', 'age', 'parents_income', 'efficiency']],\n",
    "                                                    df['grade_category'], \n",
    "                                                    test_size=0.20, \n",
    "                                                    random_state=5)\n",
    "\n",
    "# Show X2_train\n",
    "print('X2_train:')\n",
    "print(X2_train.head(), '\\n')\n",
    "\n",
    "# Show y2_train\n",
    "print('y2_train:')\n",
    "print(y2_train.head())"
   ]
  },
  {
   "cell_type": "markdown",
   "metadata": {},
   "source": [
    "### Fit the Random Forest Classifier"
   ]
  },
  {
   "cell_type": "code",
   "execution_count": 25,
   "metadata": {},
   "outputs": [
    {
     "name": "stdout",
     "output_type": "stream",
     "text": [
      "Brand versus predicted grade: \n",
      "\n"
     ]
    },
    {
     "data": {
      "text/html": [
       "<div>\n",
       "<style scoped>\n",
       "    .dataframe tbody tr th:only-of-type {\n",
       "        vertical-align: middle;\n",
       "    }\n",
       "\n",
       "    .dataframe tbody tr th {\n",
       "        vertical-align: top;\n",
       "    }\n",
       "\n",
       "    .dataframe thead th {\n",
       "        text-align: right;\n",
       "    }\n",
       "</style>\n",
       "<table border=\"1\" class=\"dataframe\">\n",
       "  <thead>\n",
       "    <tr style=\"text-align: right;\">\n",
       "      <th></th>\n",
       "      <th>grade_category</th>\n",
       "      <th>grade_category_predicted</th>\n",
       "    </tr>\n",
       "  </thead>\n",
       "  <tbody>\n",
       "    <tr>\n",
       "      <th>0</th>\n",
       "      <td>C</td>\n",
       "      <td>C</td>\n",
       "    </tr>\n",
       "    <tr>\n",
       "      <th>1</th>\n",
       "      <td>C</td>\n",
       "      <td>B</td>\n",
       "    </tr>\n",
       "    <tr>\n",
       "      <th>2</th>\n",
       "      <td>D</td>\n",
       "      <td>C</td>\n",
       "    </tr>\n",
       "    <tr>\n",
       "      <th>3</th>\n",
       "      <td>C</td>\n",
       "      <td>C</td>\n",
       "    </tr>\n",
       "    <tr>\n",
       "      <th>4</th>\n",
       "      <td>B</td>\n",
       "      <td>B</td>\n",
       "    </tr>\n",
       "    <tr>\n",
       "      <th>...</th>\n",
       "      <td>...</td>\n",
       "      <td>...</td>\n",
       "    </tr>\n",
       "    <tr>\n",
       "      <th>95</th>\n",
       "      <td>C</td>\n",
       "      <td>C</td>\n",
       "    </tr>\n",
       "    <tr>\n",
       "      <th>96</th>\n",
       "      <td>B</td>\n",
       "      <td>B</td>\n",
       "    </tr>\n",
       "    <tr>\n",
       "      <th>97</th>\n",
       "      <td>C</td>\n",
       "      <td>C</td>\n",
       "    </tr>\n",
       "    <tr>\n",
       "      <th>98</th>\n",
       "      <td>B</td>\n",
       "      <td>B</td>\n",
       "    </tr>\n",
       "    <tr>\n",
       "      <th>99</th>\n",
       "      <td>C</td>\n",
       "      <td>C</td>\n",
       "    </tr>\n",
       "  </tbody>\n",
       "</table>\n",
       "<p>100 rows × 2 columns</p>\n",
       "</div>"
      ],
      "text/plain": [
       "   grade_category grade_category_predicted\n",
       "0               C                        C\n",
       "1               C                        B\n",
       "2               D                        C\n",
       "3               C                        C\n",
       "4               B                        B\n",
       "..            ...                      ...\n",
       "95              C                        C\n",
       "96              B                        B\n",
       "97              C                        C\n",
       "98              B                        B\n",
       "99              C                        C\n",
       "\n",
       "[100 rows x 2 columns]"
      ]
     },
     "execution_count": 25,
     "metadata": {},
     "output_type": "execute_result"
    }
   ],
   "source": [
    "# Initialize the random forest classifier\n",
    "rfc = RandomForestClassifier(n_estimators=500, random_state=5, max_depth=5)\n",
    "\n",
    "# Train the classification tree model\n",
    "rfc = rfc.fit(X2_train, y2_train)\n",
    "\n",
    "# Predict the target variable\n",
    "y_pred_rf = rfc.predict(X2_test)\n",
    "\n",
    "# Crosstab\n",
    "print('Brand versus predicted grade:', '\\n')\n",
    "df_pred = pd.DataFrame(data={'grade_category': y2_test, \n",
    "                             'grade_category_predicted': y_pred_rf}).reset_index(drop=True)\n",
    "df_pred"
   ]
  },
  {
   "cell_type": "markdown",
   "metadata": {},
   "source": [
    "### Show confusion matrix and classification report"
   ]
  },
  {
   "cell_type": "code",
   "execution_count": 26,
   "metadata": {},
   "outputs": [
    {
     "name": "stdout",
     "output_type": "stream",
     "text": [
      "Confusion matrix\n",
      "[[ 0  1  0  0]\n",
      " [ 0 46  5  0]\n",
      " [ 0  4 42  0]\n",
      " [ 0  0  2  0]] \n",
      "\n",
      "Classification report\n",
      "              precision    recall  f1-score   support\n",
      "\n",
      "           A       0.00      0.00      0.00         1\n",
      "           B       0.90      0.90      0.90        51\n",
      "           C       0.86      0.91      0.88        46\n",
      "           D       0.00      0.00      0.00         2\n",
      "\n",
      "    accuracy                           0.88       100\n",
      "   macro avg       0.44      0.45      0.45       100\n",
      "weighted avg       0.85      0.88      0.87       100\n",
      "\n"
     ]
    }
   ],
   "source": [
    "# Confusion matrix\n",
    "print('Confusion matrix')\n",
    "print(confusion_matrix(y2_test, y_pred_rf), '\\n')\n",
    "\n",
    "# Classification report\n",
    "print('Classification report')\n",
    "print(classification_report(y2_test, y_pred_rf))"
   ]
  }
 ],
 "metadata": {
  "kernelspec": {
   "display_name": "Python 3",
   "language": "python",
   "name": "python3"
  },
  "language_info": {
   "codemirror_mode": {
    "name": "ipython",
    "version": 3
   },
   "file_extension": ".py",
   "mimetype": "text/x-python",
   "name": "python",
   "nbconvert_exporter": "python",
   "pygments_lexer": "ipython3",
   "version": "3.11.10"
  }
 },
 "nbformat": 4,
 "nbformat_minor": 2
}
